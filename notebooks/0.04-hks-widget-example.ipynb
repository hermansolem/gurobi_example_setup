{
  "cells": [
    {
      "cell_type": "markdown",
      "id": "89eeb5ad",
      "metadata": {
        "id": "89eeb5ad"
      },
      "source": [
        "# Translating a Decision Problem to an Optimization Model\n",
        "\n",
        "In the first video we discussed a few key concepts that are necessary for mathematical optimization:\n",
        "\n",
        "- parameters\n",
        "- decision variables\n",
        "- constraints\n",
        "- objective function\n",
        "\n",
        "In this first modeling example we will see how these are used to formulate a decision problem as an optimization model and code the formulation using `gurobipy`. For more information on all of the commands in the Python API check out our [documentation](https://www.gurobi.com/documentation/10.0/refman/py_python_api_details.html).\n",
        "\n",
        "## The Decision Problem\n",
        "\n",
        "We make widgets. Have a set of production facilities that produce boxes of widgets. There is also a set of distribution locations that will then distribute the widgets for sale. Each distribution center has a forecasted demand and each production facility has a min and max number of widgets it can make during this period. We need to ensure that each distribution facility receives enough widgets to satisfy demand from production and we want to do this at minimal cost. The minimum production is 75% of the production facilities max value.\n"
      ]
    },
    {
      "cell_type": "markdown",
      "id": "72ce953b",
      "metadata": {},
      "source": [
        "## Environment controll\n",
        "\n",
        "Run in order to check correctly activated.\n"
      ]
    },
    {
      "cell_type": "code",
      "execution_count": 6,
      "id": "0457baa8",
      "metadata": {},
      "outputs": [
        {
          "name": "stdout",
          "output_type": "stream",
          "text": [
            "# conda environments:\n",
            "#\n",
            "base                     /Users/hermansolem/anaconda3\n",
            "ag                       /Users/hermansolem/anaconda3/envs/ag\n",
            "alpha-go                 /Users/hermansolem/anaconda3/envs/alpha-go\n",
            "gurobi_example_setup  *  /Users/hermansolem/anaconda3/envs/gurobi_example_setup\n",
            "jax-controller           /Users/hermansolem/anaconda3/envs/jax-controller\n",
            "optimization             /Users/hermansolem/anaconda3/envs/optimization\n",
            "optuna_setup             /Users/hermansolem/anaconda3/envs/optuna_setup\n",
            "                         /Users/hermansolem/opt/anaconda3/envs/myenv\n",
            "                         /Users/hermansolem/opt/anaconda3/envs/virtualenv\n",
            "                         /Users/hermansolem/opt/miniconda3\n",
            "\n"
          ]
        }
      ],
      "source": [
        "# Check if the environment is activated\n",
        "\n",
        "!conda info --envs"
      ]
    },
    {
      "cell_type": "code",
      "execution_count": 5,
      "id": "d4b38c01",
      "metadata": {},
      "outputs": [
        {
          "name": "stdout",
          "output_type": "stream",
          "text": [
            "# packages in environment at /Users/hermansolem/anaconda3/envs/gurobi_example_setup:\n",
            "#\n",
            "# Name                    Version                   Build  Channel\n",
            "anyio                     4.3.0              pyhd8ed1ab_0    conda-forge\n",
            "appnope                   0.1.4              pyhd8ed1ab_0    conda-forge\n",
            "argon2-cffi               23.1.0             pyhd8ed1ab_0    conda-forge\n",
            "argon2-cffi-bindings      21.2.0          py312h104f124_4    conda-forge\n",
            "arrow                     1.3.0              pyhd8ed1ab_0    conda-forge\n",
            "asttokens                 2.4.1              pyhd8ed1ab_0    conda-forge\n",
            "async-lru                 2.0.4              pyhd8ed1ab_0    conda-forge\n",
            "attrs                     23.2.0             pyh71513ae_0    conda-forge\n",
            "babel                     2.14.0             pyhd8ed1ab_0    conda-forge\n",
            "beautifulsoup4            4.12.3             pyha770c72_0    conda-forge\n",
            "black                     24.4.2          py312hb401068_0    conda-forge\n",
            "bleach                    6.1.0              pyhd8ed1ab_0    conda-forge\n",
            "brotli                    1.1.0                h0dc2134_1    conda-forge\n",
            "brotli-bin                1.1.0                h0dc2134_1    conda-forge\n",
            "brotli-python             1.1.0           py312heafc425_1    conda-forge\n",
            "bzip2                     1.0.8                h10d778d_5    conda-forge\n",
            "ca-certificates           2024.2.2             h8857fd0_0    conda-forge\n",
            "cached-property           1.5.2                hd8ed1ab_1    conda-forge\n",
            "cached_property           1.5.2              pyha770c72_1    conda-forge\n",
            "certifi                   2024.2.2           pyhd8ed1ab_0    conda-forge\n",
            "cffi                      1.16.0          py312h38bf5a0_0    conda-forge\n",
            "charset-normalizer        3.3.2              pyhd8ed1ab_0    conda-forge\n",
            "click                     8.1.7           unix_pyh707e725_0    conda-forge\n",
            "colorama                  0.4.6              pyhd8ed1ab_0    conda-forge\n",
            "comm                      0.2.2              pyhd8ed1ab_0    conda-forge\n",
            "contourpy                 1.2.1           py312h9230928_0    conda-forge\n",
            "cycler                    0.12.1             pyhd8ed1ab_0    conda-forge\n",
            "debugpy                   1.8.1           py312hede676d_0    conda-forge\n",
            "decorator                 5.1.1              pyhd8ed1ab_0    conda-forge\n",
            "defusedxml                0.7.1              pyhd8ed1ab_0    conda-forge\n",
            "entrypoints               0.4                pyhd8ed1ab_0    conda-forge\n",
            "exceptiongroup            1.2.0              pyhd8ed1ab_2    conda-forge\n",
            "executing                 2.0.1              pyhd8ed1ab_0    conda-forge\n",
            "fonttools                 4.52.4          py312hbd25219_0    conda-forge\n",
            "fqdn                      1.5.1              pyhd8ed1ab_0    conda-forge\n",
            "freetype                  2.12.1               h60636b9_2    conda-forge\n",
            "ghp-import                2.1.0                    pypi_0    pypi\n",
            "gurobi                    11.0.2                  py312_0    gurobi\n",
            "gurobi-example            0.0.1                    pypi_0    pypi\n",
            "h11                       0.14.0             pyhd8ed1ab_0    conda-forge\n",
            "h2                        4.1.0              pyhd8ed1ab_0    conda-forge\n",
            "hpack                     4.0.0              pyh9f0ad1d_0    conda-forge\n",
            "httpcore                  1.0.5              pyhd8ed1ab_0    conda-forge\n",
            "httpx                     0.27.0             pyhd8ed1ab_0    conda-forge\n",
            "hyperframe                6.0.1              pyhd8ed1ab_0    conda-forge\n",
            "idna                      3.7                pyhd8ed1ab_0    conda-forge\n",
            "importlib-metadata        7.1.0              pyha770c72_0    conda-forge\n",
            "importlib_metadata        7.1.0                hd8ed1ab_0    conda-forge\n",
            "importlib_resources       6.4.0              pyhd8ed1ab_0    conda-forge\n",
            "ipykernel                 6.29.3             pyh3cd1d5f_0    conda-forge\n",
            "ipython                   8.24.0             pyh707e725_0    conda-forge\n",
            "ipywidgets                8.1.3              pyhd8ed1ab_0    conda-forge\n",
            "isoduration               20.11.0            pyhd8ed1ab_0    conda-forge\n",
            "isort                     5.13.2             pyhd8ed1ab_0    conda-forge\n",
            "jedi                      0.19.1             pyhd8ed1ab_0    conda-forge\n",
            "jinja2                    3.1.4              pyhd8ed1ab_0    conda-forge\n",
            "joblib                    1.4.2              pyhd8ed1ab_0    conda-forge\n",
            "json5                     0.9.25             pyhd8ed1ab_0    conda-forge\n",
            "jsonpointer               2.4             py312hb401068_3    conda-forge\n",
            "jsonschema                4.22.0             pyhd8ed1ab_0    conda-forge\n",
            "jsonschema-specifications 2023.12.1          pyhd8ed1ab_0    conda-forge\n",
            "jsonschema-with-format-nongpl 4.22.0             pyhd8ed1ab_0    conda-forge\n",
            "jupyter                   1.0.0             pyhd8ed1ab_10    conda-forge\n",
            "jupyter-lsp               2.2.5              pyhd8ed1ab_0    conda-forge\n",
            "jupyter_client            8.6.2              pyhd8ed1ab_0    conda-forge\n",
            "jupyter_console           6.6.3              pyhd8ed1ab_0    conda-forge\n",
            "jupyter_core              5.7.2           py312hb401068_0    conda-forge\n",
            "jupyter_events            0.10.0             pyhd8ed1ab_0    conda-forge\n",
            "jupyter_server            2.14.0             pyhd8ed1ab_0    conda-forge\n",
            "jupyter_server_terminals  0.5.3              pyhd8ed1ab_0    conda-forge\n",
            "jupyterlab                4.2.1              pyhd8ed1ab_0    conda-forge\n",
            "jupyterlab_pygments       0.3.0              pyhd8ed1ab_1    conda-forge\n",
            "jupyterlab_server         2.27.2             pyhd8ed1ab_0    conda-forge\n",
            "jupyterlab_widgets        3.0.11             pyhd8ed1ab_0    conda-forge\n",
            "kiwisolver                1.4.5           py312h49ebfd2_1    conda-forge\n",
            "krb5                      1.21.2               hb884880_0    conda-forge\n",
            "lcms2                     2.16                 ha2f27b4_0    conda-forge\n",
            "lerc                      4.0.0                hb486fe8_0    conda-forge\n",
            "libblas                   3.9.0           22_osx64_openblas    conda-forge\n",
            "libbrotlicommon           1.1.0                h0dc2134_1    conda-forge\n",
            "libbrotlidec              1.1.0                h0dc2134_1    conda-forge\n",
            "libbrotlienc              1.1.0                h0dc2134_1    conda-forge\n",
            "libcblas                  3.9.0           22_osx64_openblas    conda-forge\n",
            "libcxx                    17.0.6               h88467a6_0    conda-forge\n",
            "libdeflate                1.20                 h49d49c5_0    conda-forge\n",
            "libedit                   3.1.20191231         h0678c8f_2    conda-forge\n",
            "libexpat                  2.6.2                h73e2aa4_0    conda-forge\n",
            "libffi                    3.4.2                h0d85af4_5    conda-forge\n",
            "libgfortran               5.0.0           13_2_0_h97931a8_3    conda-forge\n",
            "libgfortran5              13.2.0               h2873a65_3    conda-forge\n",
            "libjpeg-turbo             3.0.0                h0dc2134_1    conda-forge\n",
            "liblapack                 3.9.0           22_osx64_openblas    conda-forge\n",
            "libopenblas               0.3.27          openmp_hfef2a42_0    conda-forge\n",
            "libpng                    1.6.43               h92b6c6a_0    conda-forge\n",
            "libsodium                 1.0.18               hbcb3906_1    conda-forge\n",
            "libsqlite                 3.45.3               h92b6c6a_0    conda-forge\n",
            "libtiff                   4.6.0                h129831d_3    conda-forge\n",
            "libwebp-base              1.4.0                h10d778d_0    conda-forge\n",
            "libxcb                    1.15                 hb7f2c08_0    conda-forge\n",
            "libzlib                   1.2.13               h87427d6_6    conda-forge\n",
            "llvm-openmp               18.1.6               h15ab845_0    conda-forge\n",
            "loguru                    0.7.2           py312hb401068_1    conda-forge\n",
            "markdown                  3.6                      pypi_0    pypi\n",
            "markdown-it-py            3.0.0              pyhd8ed1ab_0    conda-forge\n",
            "markupsafe                2.1.5           py312h41838bb_0    conda-forge\n",
            "matplotlib                3.8.4           py312hb401068_2    conda-forge\n",
            "matplotlib-base           3.8.4           py312hb6d62fa_2    conda-forge\n",
            "matplotlib-inline         0.1.7              pyhd8ed1ab_0    conda-forge\n",
            "mdurl                     0.1.2              pyhd8ed1ab_0    conda-forge\n",
            "mergedeep                 1.3.4                    pypi_0    pypi\n",
            "mistune                   3.0.2              pyhd8ed1ab_0    conda-forge\n",
            "mkdocs                    1.6.0                    pypi_0    pypi\n",
            "mkdocs-get-deps           0.2.0                    pypi_0    pypi\n",
            "munkres                   1.1.4              pyh9f0ad1d_0    conda-forge\n",
            "mypy_extensions           1.0.0              pyha770c72_0    conda-forge\n",
            "nbclient                  0.10.0             pyhd8ed1ab_0    conda-forge\n",
            "nbconvert                 7.16.4               hd8ed1ab_0    conda-forge\n",
            "nbconvert-core            7.16.4             pyhd8ed1ab_0    conda-forge\n",
            "nbconvert-pandoc          7.16.4               hd8ed1ab_0    conda-forge\n",
            "nbformat                  5.10.4             pyhd8ed1ab_0    conda-forge\n",
            "ncurses                   6.5                  h5846eda_0    conda-forge\n",
            "nest-asyncio              1.6.0              pyhd8ed1ab_0    conda-forge\n",
            "notebook                  7.2.0              pyhd8ed1ab_0    conda-forge\n",
            "notebook-shim             0.2.4              pyhd8ed1ab_0    conda-forge\n",
            "numpy                     1.26.4          py312he3a82b2_0    conda-forge\n",
            "openjpeg                  2.5.2                h7310d3a_0    conda-forge\n",
            "openssl                   3.3.0                h87427d6_3    conda-forge\n",
            "overrides                 7.7.0              pyhd8ed1ab_0    conda-forge\n",
            "packaging                 24.0               pyhd8ed1ab_0    conda-forge\n",
            "pandas                    2.2.2           py312h1171441_1    conda-forge\n",
            "pandoc                    3.2                  h694c41f_0    conda-forge\n",
            "pandocfilters             1.5.0              pyhd8ed1ab_0    conda-forge\n",
            "parso                     0.8.4              pyhd8ed1ab_0    conda-forge\n",
            "pathspec                  0.12.1             pyhd8ed1ab_0    conda-forge\n",
            "patsy                     0.5.6              pyhd8ed1ab_0    conda-forge\n",
            "pexpect                   4.9.0              pyhd8ed1ab_0    conda-forge\n",
            "pickleshare               0.7.5                   py_1003    conda-forge\n",
            "pillow                    10.3.0          py312h0c923fa_0    conda-forge\n",
            "pip                       24.0               pyhd8ed1ab_0    conda-forge\n",
            "pkgutil-resolve-name      1.3.10             pyhd8ed1ab_1    conda-forge\n",
            "platformdirs              4.2.2              pyhd8ed1ab_0    conda-forge\n",
            "prometheus_client         0.20.0             pyhd8ed1ab_0    conda-forge\n",
            "prompt-toolkit            3.0.42             pyha770c72_0    conda-forge\n",
            "prompt_toolkit            3.0.42               hd8ed1ab_0    conda-forge\n",
            "psutil                    5.9.8           py312h41838bb_0    conda-forge\n",
            "pthread-stubs             0.4               hc929b4f_1001    conda-forge\n",
            "ptyprocess                0.7.0              pyhd3deb0d_0    conda-forge\n",
            "pure_eval                 0.2.2              pyhd8ed1ab_0    conda-forge\n",
            "pycparser                 2.22               pyhd8ed1ab_0    conda-forge\n",
            "pygments                  2.18.0             pyhd8ed1ab_0    conda-forge\n",
            "pyobjc-core               10.2            py312h74abf1d_0    conda-forge\n",
            "pyobjc-framework-cocoa    10.2            py312h74abf1d_0    conda-forge\n",
            "pyparsing                 3.1.2              pyhd8ed1ab_0    conda-forge\n",
            "pysocks                   1.7.1              pyha2e5f31_6    conda-forge\n",
            "python                    3.12.3          h1411813_0_cpython    conda-forge\n",
            "python-dateutil           2.9.0              pyhd8ed1ab_0    conda-forge\n",
            "python-dotenv             1.0.1                    pypi_0    pypi\n",
            "python-fastjsonschema     2.19.1             pyhd8ed1ab_0    conda-forge\n",
            "python-json-logger        2.0.7              pyhd8ed1ab_0    conda-forge\n",
            "python-tzdata             2024.1             pyhd8ed1ab_0    conda-forge\n",
            "python_abi                3.12                    4_cp312    conda-forge\n",
            "pytz                      2024.1             pyhd8ed1ab_0    conda-forge\n",
            "pyyaml                    6.0.1           py312h104f124_1    conda-forge\n",
            "pyyaml-env-tag            0.1                      pypi_0    pypi\n",
            "pyzmq                     26.0.3          py312ha04878a_0    conda-forge\n",
            "qtconsole-base            5.5.2              pyha770c72_0    conda-forge\n",
            "qtpy                      2.4.1              pyhd8ed1ab_0    conda-forge\n",
            "readline                  8.2                  h9e318b2_1    conda-forge\n",
            "referencing               0.35.1             pyhd8ed1ab_0    conda-forge\n",
            "requests                  2.32.2             pyhd8ed1ab_0    conda-forge\n",
            "rfc3339-validator         0.1.4              pyhd8ed1ab_0    conda-forge\n",
            "rfc3986-validator         0.1.1              pyh9f0ad1d_0    conda-forge\n",
            "rich                      13.7.1             pyhd8ed1ab_0    conda-forge\n",
            "rpds-py                   0.18.1          py312ha47ea1c_0    conda-forge\n",
            "scikit-learn              1.5.0           py312hc214ba5_1    conda-forge\n",
            "scipy                     1.13.1          py312hb9702fa_0    conda-forge\n",
            "seaborn                   0.13.2               hd8ed1ab_2    conda-forge\n",
            "seaborn-base              0.13.2             pyhd8ed1ab_2    conda-forge\n",
            "send2trash                1.8.3              pyh31c8845_0    conda-forge\n",
            "setuptools                70.0.0             pyhd8ed1ab_0    conda-forge\n",
            "shellingham               1.5.4              pyhd8ed1ab_0    conda-forge\n",
            "six                       1.16.0             pyh6c4a22f_0    conda-forge\n",
            "sniffio                   1.3.1              pyhd8ed1ab_0    conda-forge\n",
            "soupsieve                 2.5                pyhd8ed1ab_1    conda-forge\n",
            "stack_data                0.6.2              pyhd8ed1ab_0    conda-forge\n",
            "statsmodels               0.14.2          py312h5dc8b90_0    conda-forge\n",
            "terminado                 0.18.1             pyh31c8845_0    conda-forge\n",
            "threadpoolctl             3.5.0              pyhc1e730c_0    conda-forge\n",
            "tinycss2                  1.3.0              pyhd8ed1ab_0    conda-forge\n",
            "tk                        8.6.13               h1abcd95_1    conda-forge\n",
            "tomli                     2.0.1              pyhd8ed1ab_0    conda-forge\n",
            "tornado                   6.4             py312h41838bb_0    conda-forge\n",
            "tqdm                      4.66.4             pyhd8ed1ab_0    conda-forge\n",
            "traitlets                 5.14.3             pyhd8ed1ab_0    conda-forge\n",
            "typer                     0.12.3             pyhd8ed1ab_0    conda-forge\n",
            "typer-slim                0.12.3             pyhd8ed1ab_0    conda-forge\n",
            "typer-slim-standard       0.12.3               hd8ed1ab_0    conda-forge\n",
            "types-python-dateutil     2.9.0.20240316     pyhd8ed1ab_0    conda-forge\n",
            "typing-extensions         4.11.0               hd8ed1ab_0    conda-forge\n",
            "typing_extensions         4.11.0             pyha770c72_0    conda-forge\n",
            "typing_utils              0.1.0              pyhd8ed1ab_0    conda-forge\n",
            "tzdata                    2024a                h0c530f3_0    conda-forge\n",
            "uri-template              1.3.0              pyhd8ed1ab_0    conda-forge\n",
            "urllib3                   2.2.1              pyhd8ed1ab_0    conda-forge\n",
            "watchdog                  4.0.1                    pypi_0    pypi\n",
            "wcwidth                   0.2.13             pyhd8ed1ab_0    conda-forge\n",
            "webcolors                 1.13               pyhd8ed1ab_0    conda-forge\n",
            "webencodings              0.5.1              pyhd8ed1ab_2    conda-forge\n",
            "websocket-client          1.8.0              pyhd8ed1ab_0    conda-forge\n",
            "wheel                     0.43.0             pyhd8ed1ab_1    conda-forge\n",
            "widgetsnbextension        4.0.11             pyhd8ed1ab_0    conda-forge\n",
            "xorg-libxau               1.0.11               h0dc2134_0    conda-forge\n",
            "xorg-libxdmcp             1.1.3                h35c211d_0    conda-forge\n",
            "xz                        5.2.6                h775f41a_0    conda-forge\n",
            "yaml                      0.2.5                h0d85af4_2    conda-forge\n",
            "zeromq                    4.3.5                hde137ed_4    conda-forge\n",
            "zipp                      3.17.0             pyhd8ed1ab_0    conda-forge\n",
            "zstd                      1.5.6                h915ae27_0    conda-forge\n"
          ]
        }
      ],
      "source": [
        "# Check the installed packages in the environment\n",
        "\n",
        "!conda list"
      ]
    },
    {
      "cell_type": "code",
      "execution_count": 12,
      "id": "39b7a37a",
      "metadata": {},
      "outputs": [],
      "source": [
        "#%pip install gurobipy - not needed due to .yml file\n",
        "\n",
        "# First, import packages\n",
        "import pandas as pd\n",
        "import gurobipy as gp\n",
        "from gurobipy import GRB"
      ]
    },
    {
      "cell_type": "code",
      "execution_count": 13,
      "id": "dc89b048",
      "metadata": {},
      "outputs": [
        {
          "name": "stdout",
          "output_type": "stream",
          "text": [
            "(11, 0, 2)\n"
          ]
        }
      ],
      "source": [
        "# Print Gurobi version to verify the installation\n",
        "print(gp.gurobi.version())"
      ]
    },
    {
      "cell_type": "markdown",
      "id": "fae40a4d",
      "metadata": {},
      "source": [
        "### Gurobi `GRB` Constants and Enums\n",
        "\n",
        "The `GRB` module in `gurobipy` provides a collection of constants and enums that are essential for defining and solving optimization models using the Gurobi Optimizer. Below are some of the key components:\n",
        "\n",
        "### Variable Types\n",
        "\n",
        "- **`GRB.CONTINUOUS`**: Continuous variables that can take any real value.\n",
        "- **`GRB.BINARY`**: Binary variables that can take values 0 or 1.\n",
        "- **`GRB.INTEGER`**: Integer variables that can take whole numbers.\n",
        "\n",
        "### Objective Sense\n",
        "\n",
        "- **`GRB.MINIMIZE`**: Indicates that the objective function should be minimized.\n",
        "- **`GRB.MAXIMIZE`**: Indicates that the objective function should be maximized.\n",
        "\n",
        "### Constraint Senses\n",
        "\n",
        "- **`GRB.EQUAL`**: Indicates an equality constraint (`=`).\n",
        "- **`GRB.LESS_EQUAL`**: Indicates a less-than-or-equal-to constraint (`<=`).\n",
        "- **`GRB.GREATER_EQUAL`**: Indicates a greater-than-or-equal-to constraint (`>=`).\n",
        "\n",
        "### Model Status\n",
        "\n",
        "- **`GRB.OPTIMAL`**: Indicates that the optimization model has found an optimal solution.\n",
        "- **`GRB.INFEASIBLE`**: Indicates that the model is infeasible.\n",
        "- **`GRB.UNBOUNDED`**: Indicates that the model is unbounded.\n",
        "\n",
        "### Example Usage\n",
        "\n",
        "```python\n",
        "import gurobipy as gp\n",
        "from gurobipy import GRB\n",
        "\n",
        "# Create a new model\n",
        "model = gp.Model(\"example\")\n",
        "\n",
        "# Create variables\n",
        "x = model.addVar(vtype=GRB.CONTINUOUS, name=\"x\")\n",
        "y = model.addVar(vtype=GRB.CONTINUOUS, name=\"y\")\n",
        "\n",
        "# Set objective: maximize x + y\n",
        "model.setObjective(x + y, GRB.MAXIMIZE)\n",
        "\n",
        "# Add constraints: x + 2*y <= 4, x + y >= 1\n",
        "model.addConstr(x + 2*y <= 4, \"c0\")\n",
        "model.addConstr(x + y >= 1, \"c1\")\n",
        "\n",
        "# Optimize the model\n",
        "model.optimize()\n",
        "\n",
        "# Print the results\n",
        "if model.status == GRB.OPTIMAL:\n",
        "    print(f\"Optimal objective value: {model.objVal}\")\n",
        "    for var in model.getVars():\n",
        "        print(f\"{var.varName}: {var.x}\")\n",
        "```\n"
      ]
    },
    {
      "cell_type": "markdown",
      "id": "494554e4",
      "metadata": {},
      "source": [
        "## Sets and Define Model\n",
        "\n",
        "Our sets are:\n",
        "\n",
        "- $P = \\{\\texttt{'Baltimore', 'Cleveland', 'Little Rock', 'Birmingham', 'Charleston'}\\} \\quad\\quad\\quad\\quad\\quad\\quad\\quad\\space\\space \\texttt{production}$\n",
        "- $D = \\{\\texttt{'Columbia', 'Indianapolis', 'Lexington', 'Nashville', 'Richmond', 'St. Louis'}\\} \\quad\\quad\\quad \\texttt{distribution}$\n",
        "\n",
        "To index each set, we'll use the lowercase letter of each set. Letters used for sets and indices are up to you. Typically, capital letters are for sets and corresponding lowercase will be the index. Single letters are used mainly for conciseness.\n"
      ]
    },
    {
      "cell_type": "code",
      "execution_count": 14,
      "id": "28e16593-5c56-43d6-b2fb-d05835d38ea3",
      "metadata": {
        "id": "28e16593-5c56-43d6-b2fb-d05835d38ea3"
      },
      "outputs": [],
      "source": [
        "# Sets P and D, respectively\n",
        "# When we code sets we can be more descriptive in the name\n",
        "production = ['Baltimore','Cleveland','Little Rock','Birmingham','Charleston']\n",
        "distribution = ['Columbia','Indianapolis','Lexington','Nashville','Richmond','St. Louis']\n",
        "\n",
        "# Define a gurobipy model for the decision problem\n",
        "m = gp.Model('widgets')"
      ]
    },
    {
      "cell_type": "markdown",
      "id": "728aaa2d-b631-4ce3-9bd2-c619732a291c",
      "metadata": {
        "id": "728aaa2d-b631-4ce3-9bd2-c619732a291c"
      },
      "source": [
        "## Parameters\n",
        "\n",
        "Parameters of a math optimization problem are values treated as constants in the model and are associated with the decision variables. For this decision problem these values are the limits of each production facility, the demand for each distribution center, and the pairwise costs between production and distribution locations.\n",
        "\n",
        "- $m_p$ is the max production in location $p$, $\\forall p \\in P \\quad\\quad\\quad\\quad\\quad\\quad\\quad\\quad\\quad\\quad\\quad\\quad\\quad\\quad\\space\\space \\texttt{max}\\_\\texttt{prod[p]}$\n",
        "- $n_d$ is the number of customers for a distribution center $d$, $\\forall d \\in D \\quad\\quad\\quad\\quad\\quad\\quad\\quad\\quad \\texttt{n}\\_\\texttt{demand[d]}$\n",
        "- $c_{p,d}$ is the cost to ship a widget between location $p$ and location $d$, $\\forall p \\in P, d \\in D \\quad\\quad\\quad \\texttt{cost[p,d]}$\n"
      ]
    },
    {
      "cell_type": "code",
      "execution_count": 23,
      "id": "1085555a",
      "metadata": {},
      "outputs": [
        {
          "data": {
            "text/html": [
              "<div>\n",
              "<style scoped>\n",
              "    .dataframe tbody tr th:only-of-type {\n",
              "        vertical-align: middle;\n",
              "    }\n",
              "\n",
              "    .dataframe tbody tr th {\n",
              "        vertical-align: top;\n",
              "    }\n",
              "\n",
              "    .dataframe thead th {\n",
              "        text-align: right;\n",
              "    }\n",
              "</style>\n",
              "<table border=\"1\" class=\"dataframe\">\n",
              "  <thead>\n",
              "    <tr style=\"text-align: right;\">\n",
              "      <th>distribution</th>\n",
              "      <th>Columbia</th>\n",
              "      <th>Indianapolis</th>\n",
              "      <th>Lexington</th>\n",
              "      <th>Nashville</th>\n",
              "      <th>Richmond</th>\n",
              "      <th>St. Louis</th>\n",
              "    </tr>\n",
              "    <tr>\n",
              "      <th>production</th>\n",
              "      <th></th>\n",
              "      <th></th>\n",
              "      <th></th>\n",
              "      <th></th>\n",
              "      <th></th>\n",
              "      <th></th>\n",
              "    </tr>\n",
              "  </thead>\n",
              "  <tbody>\n",
              "    <tr>\n",
              "      <th>Baltimore</th>\n",
              "      <td>4.50</td>\n",
              "      <td>5.09</td>\n",
              "      <td>4.33</td>\n",
              "      <td>5.96</td>\n",
              "      <td>1.96</td>\n",
              "      <td>7.30</td>\n",
              "    </tr>\n",
              "    <tr>\n",
              "      <th>Birmingham</th>\n",
              "      <td>3.33</td>\n",
              "      <td>4.33</td>\n",
              "      <td>3.38</td>\n",
              "      <td>1.53</td>\n",
              "      <td>5.95</td>\n",
              "      <td>4.01</td>\n",
              "    </tr>\n",
              "    <tr>\n",
              "      <th>Charleston</th>\n",
              "      <td>3.02</td>\n",
              "      <td>2.61</td>\n",
              "      <td>1.61</td>\n",
              "      <td>4.44</td>\n",
              "      <td>2.36</td>\n",
              "      <td>4.60</td>\n",
              "    </tr>\n",
              "    <tr>\n",
              "      <th>Cleveland</th>\n",
              "      <td>2.43</td>\n",
              "      <td>2.37</td>\n",
              "      <td>2.54</td>\n",
              "      <td>4.13</td>\n",
              "      <td>3.20</td>\n",
              "      <td>4.88</td>\n",
              "    </tr>\n",
              "    <tr>\n",
              "      <th>Little Rock</th>\n",
              "      <td>6.42</td>\n",
              "      <td>4.83</td>\n",
              "      <td>3.39</td>\n",
              "      <td>4.40</td>\n",
              "      <td>7.44</td>\n",
              "      <td>2.92</td>\n",
              "    </tr>\n",
              "  </tbody>\n",
              "</table>\n",
              "</div>"
            ],
            "text/plain": [
              "distribution  Columbia  Indianapolis  Lexington  Nashville  Richmond  \\\n",
              "production                                                             \n",
              "Baltimore         4.50          5.09       4.33       5.96      1.96   \n",
              "Birmingham        3.33          4.33       3.38       1.53      5.95   \n",
              "Charleston        3.02          2.61       1.61       4.44      2.36   \n",
              "Cleveland         2.43          2.37       2.54       4.13      3.20   \n",
              "Little Rock       6.42          4.83       3.39       4.40      7.44   \n",
              "\n",
              "distribution  St. Louis  \n",
              "production               \n",
              "Baltimore          7.30  \n",
              "Birmingham         4.01  \n",
              "Charleston         4.60  \n",
              "Cleveland          4.88  \n",
              "Little Rock        2.92  "
            ]
          },
          "execution_count": 23,
          "metadata": {},
          "output_type": "execute_result"
        }
      ],
      "source": [
        "# Define the path to the CSV file\n",
        "csv_path = '../data/raw/cost.csv'\n",
        "\n",
        "# Load the CSV file into a DataFrame\n",
        "transp_cost = pd.read_csv(csv_path, index_col=[0, 1]).squeeze(\"columns\")\n",
        "\n",
        "# Pivot to view the costs a bit easier\n",
        "transp_cost.reset_index().pivot(index='production', columns='distribution', values='cost')"
      ]
    },
    {
      "cell_type": "code",
      "execution_count": 19,
      "id": "924fa2e7-7f88-4f69-a5e1-74feed55adf5",
      "metadata": {
        "id": "924fa2e7-7f88-4f69-a5e1-74feed55adf5",
        "outputId": "73ea1730-dc03-44ac-ce02-842e4f5434f6"
      },
      "outputs": [
        {
          "data": {
            "text/html": [
              "<div>\n",
              "<style scoped>\n",
              "    .dataframe tbody tr th:only-of-type {\n",
              "        vertical-align: middle;\n",
              "    }\n",
              "\n",
              "    .dataframe tbody tr th {\n",
              "        vertical-align: top;\n",
              "    }\n",
              "\n",
              "    .dataframe thead th {\n",
              "        text-align: right;\n",
              "    }\n",
              "</style>\n",
              "<table border=\"1\" class=\"dataframe\">\n",
              "  <thead>\n",
              "    <tr style=\"text-align: right;\">\n",
              "      <th>distribution</th>\n",
              "      <th>Columbia</th>\n",
              "      <th>Indianapolis</th>\n",
              "      <th>Lexington</th>\n",
              "      <th>Nashville</th>\n",
              "      <th>Richmond</th>\n",
              "      <th>St. Louis</th>\n",
              "    </tr>\n",
              "    <tr>\n",
              "      <th>production</th>\n",
              "      <th></th>\n",
              "      <th></th>\n",
              "      <th></th>\n",
              "      <th></th>\n",
              "      <th></th>\n",
              "      <th></th>\n",
              "    </tr>\n",
              "  </thead>\n",
              "  <tbody>\n",
              "    <tr>\n",
              "      <th>Baltimore</th>\n",
              "      <td>4.50</td>\n",
              "      <td>5.09</td>\n",
              "      <td>4.33</td>\n",
              "      <td>5.96</td>\n",
              "      <td>1.96</td>\n",
              "      <td>7.30</td>\n",
              "    </tr>\n",
              "    <tr>\n",
              "      <th>Birmingham</th>\n",
              "      <td>3.33</td>\n",
              "      <td>4.33</td>\n",
              "      <td>3.38</td>\n",
              "      <td>1.53</td>\n",
              "      <td>5.95</td>\n",
              "      <td>4.01</td>\n",
              "    </tr>\n",
              "    <tr>\n",
              "      <th>Charleston</th>\n",
              "      <td>3.02</td>\n",
              "      <td>2.61</td>\n",
              "      <td>1.61</td>\n",
              "      <td>4.44</td>\n",
              "      <td>2.36</td>\n",
              "      <td>4.60</td>\n",
              "    </tr>\n",
              "    <tr>\n",
              "      <th>Cleveland</th>\n",
              "      <td>2.43</td>\n",
              "      <td>2.37</td>\n",
              "      <td>2.54</td>\n",
              "      <td>4.13</td>\n",
              "      <td>3.20</td>\n",
              "      <td>4.88</td>\n",
              "    </tr>\n",
              "    <tr>\n",
              "      <th>Little Rock</th>\n",
              "      <td>6.42</td>\n",
              "      <td>4.83</td>\n",
              "      <td>3.39</td>\n",
              "      <td>4.40</td>\n",
              "      <td>7.44</td>\n",
              "      <td>2.92</td>\n",
              "    </tr>\n",
              "  </tbody>\n",
              "</table>\n",
              "</div>"
            ],
            "text/plain": [
              "distribution  Columbia  Indianapolis  Lexington  Nashville  Richmond  \\\n",
              "production                                                             \n",
              "Baltimore         4.50          5.09       4.33       5.96      1.96   \n",
              "Birmingham        3.33          4.33       3.38       1.53      5.95   \n",
              "Charleston        3.02          2.61       1.61       4.44      2.36   \n",
              "Cleveland         2.43          2.37       2.54       4.13      3.20   \n",
              "Little Rock       6.42          4.83       3.39       4.40      7.44   \n",
              "\n",
              "distribution  St. Louis  \n",
              "production               \n",
              "Baltimore          7.30  \n",
              "Birmingham         4.01  \n",
              "Charleston         4.60  \n",
              "Cleveland          4.88  \n",
              "Little Rock        2.92  "
            ]
          },
          "execution_count": 19,
          "metadata": {},
          "output_type": "execute_result"
        }
      ],
      "source": [
        "# # Use .squeeze(\"columns\") to make the costs a series\n",
        "# path = 'https://raw.githubusercontent.com/Gurobi/modeling-examples/master/optimization101/Modeling_Session_1/'\n",
        "# transp_cost = pd.read_csv(path + 'cost.csv', index_col=[0,1]).squeeze(\"columns\")\n",
        "# # transp_cost = pd.read_csv('cost.csv', index_col=[0,1]).squeeze(\"columns\")\n",
        "# # Pivot to view the costs a bit easier\n",
        "# transp_cost.reset_index().pivot(index='production', columns='distribution', values='cost')"
      ]
    },
    {
      "cell_type": "code",
      "execution_count": 28,
      "id": "cf7664cc-4547-4b72-948f-a02e138c45d9",
      "metadata": {
        "id": "cf7664cc-4547-4b72-948f-a02e138c45d9",
        "outputId": "5e292f12-770e-4fb5-e47b-f1823f6ebb82"
      },
      "outputs": [
        {
          "data": {
            "text/html": [
              "<div>\n",
              "<style scoped>\n",
              "    .dataframe tbody tr th:only-of-type {\n",
              "        vertical-align: middle;\n",
              "    }\n",
              "\n",
              "    .dataframe tbody tr th {\n",
              "        vertical-align: top;\n",
              "    }\n",
              "\n",
              "    .dataframe thead th {\n",
              "        text-align: right;\n",
              "    }\n",
              "</style>\n",
              "<table border=\"1\" class=\"dataframe\">\n",
              "  <thead>\n",
              "    <tr style=\"text-align: right;\">\n",
              "      <th></th>\n",
              "      <th>max_production</th>\n",
              "    </tr>\n",
              "  </thead>\n",
              "  <tbody>\n",
              "    <tr>\n",
              "      <th>Baltimore</th>\n",
              "      <td>180</td>\n",
              "    </tr>\n",
              "    <tr>\n",
              "      <th>Cleveland</th>\n",
              "      <td>200</td>\n",
              "    </tr>\n",
              "    <tr>\n",
              "      <th>Little Rock</th>\n",
              "      <td>140</td>\n",
              "    </tr>\n",
              "    <tr>\n",
              "      <th>Birmingham</th>\n",
              "      <td>80</td>\n",
              "    </tr>\n",
              "    <tr>\n",
              "      <th>Charleston</th>\n",
              "      <td>180</td>\n",
              "    </tr>\n",
              "  </tbody>\n",
              "</table>\n",
              "</div>"
            ],
            "text/plain": [
              "             max_production\n",
              "Baltimore               180\n",
              "Cleveland               200\n",
              "Little Rock             140\n",
              "Birmingham               80\n",
              "Charleston              180"
            ]
          },
          "execution_count": 28,
          "metadata": {},
          "output_type": "execute_result"
        }
      ],
      "source": [
        "max_prod = pd.Series([180,200,140,80,180], index = production, name = \"max_production\")\n",
        "n_demand = pd.Series([89,95,121,101,116,181], index = distribution, name = \"demand\")\n",
        "max_prod.to_frame()\n",
        "#n_demand.to_frame()"
      ]
    },
    {
      "cell_type": "markdown",
      "id": "fd659abc-ab18-49d4-b42e-43e43f19cccf",
      "metadata": {
        "id": "fd659abc-ab18-49d4-b42e-43e43f19cccf"
      },
      "source": [
        "We also have the requirement that each production facility needs to produce at 75% of this maximum output. We'll denote this value by $a$ in the formulation \"frac\" for the fraction of maximum production required. Initially we set $a = 0.75$.\n"
      ]
    },
    {
      "cell_type": "code",
      "execution_count": 29,
      "id": "dd77683c-47d1-4ee2-af3d-e9ce2003c209",
      "metadata": {
        "id": "dd77683c-47d1-4ee2-af3d-e9ce2003c209"
      },
      "outputs": [],
      "source": [
        "frac = 0.75"
      ]
    },
    {
      "cell_type": "markdown",
      "id": "cca98af8-c5c2-4883-8c48-f104ff798010",
      "metadata": {
        "id": "cca98af8-c5c2-4883-8c48-f104ff798010"
      },
      "source": [
        "## Decision Variables\n",
        "\n",
        "This is what the optimization solver determines, which are the actions you have control over. As a reminder, they come in three main flavors:\n",
        "\n",
        "- `Continuous`: Price of a product\n",
        "- `Integer`: The number of food trucks to use for an event\n",
        "- `Binary`: Yes/no decision to include a certain stock in a portfolio\n",
        "\n",
        "Decision variables (and parameters) are indexed using elements of sets that we define for the problem. In this example, let's start with a set of cities that produce our widget, which we call set $P$ for the formulation but can define as 'production' in the code. And a set of cities that distribute the widget $D$ and 'distribution' similarly. The decision here is to determine the number of boxes to send from each production facility to each distribution location.\n",
        "\n",
        "Let $x_{p,d}$ be the number of widgets that are produced at facility $i$ and shipped to location $j$.\n",
        "\n",
        "### Add Variables in gurobipy\n",
        "\n",
        "`gurobipy` let's you add decision variables primarily with two (similar) commands:\n",
        "\n",
        "- [addVar()](https://www.gurobi.com/documentation/10.0/refman/py_model_addvar.html) adds a single variable\n",
        "- [addVars()](https://www.gurobi.com/documentation/10.0/refman/py_model_addvar.html) adds a group of variables by sets/indices\n",
        "\n",
        "When using `addVars` you have to provide the indices of the variables you want to add, which for us are the production and distribution locations. There are other arguments we can use and will cover a couple of them later on.\n",
        "\n",
        "### Our Decision Variables\n",
        "\n",
        "As is often the case in writing code, there are several ways to get to the same point. Below we can see three different ways to create the decision variables.\n"
      ]
    },
    {
      "cell_type": "code",
      "execution_count": 30,
      "id": "ed5c511b-6da0-4edd-a647-7cf91c67aeda",
      "metadata": {
        "id": "ed5c511b-6da0-4edd-a647-7cf91c67aeda",
        "outputId": "37fa9362-ef8d-484a-d7bc-074493c67c94"
      },
      "outputs": [
        {
          "data": {
            "text/plain": [
              "{('Baltimore', 'Columbia'): <gurobi.Var Baltimore_to_Columbia>,\n",
              " ('Baltimore', 'Indianapolis'): <gurobi.Var Baltimore_to_Indianapolis>,\n",
              " ('Baltimore', 'Lexington'): <gurobi.Var Baltimore_to_Lexington>,\n",
              " ('Baltimore', 'Nashville'): <gurobi.Var Baltimore_to_Nashville>,\n",
              " ('Baltimore', 'Richmond'): <gurobi.Var Baltimore_to_Richmond>,\n",
              " ('Baltimore', 'St. Louis'): <gurobi.Var Baltimore_to_St. Louis>,\n",
              " ('Cleveland', 'Columbia'): <gurobi.Var Cleveland_to_Columbia>,\n",
              " ('Cleveland', 'Indianapolis'): <gurobi.Var Cleveland_to_Indianapolis>,\n",
              " ('Cleveland', 'Lexington'): <gurobi.Var Cleveland_to_Lexington>,\n",
              " ('Cleveland', 'Nashville'): <gurobi.Var Cleveland_to_Nashville>,\n",
              " ('Cleveland', 'Richmond'): <gurobi.Var Cleveland_to_Richmond>,\n",
              " ('Cleveland', 'St. Louis'): <gurobi.Var Cleveland_to_St. Louis>,\n",
              " ('Little Rock', 'Columbia'): <gurobi.Var Little Rock_to_Columbia>,\n",
              " ('Little Rock', 'Indianapolis'): <gurobi.Var Little Rock_to_Indianapolis>,\n",
              " ('Little Rock', 'Lexington'): <gurobi.Var Little Rock_to_Lexington>,\n",
              " ('Little Rock', 'Nashville'): <gurobi.Var Little Rock_to_Nashville>,\n",
              " ('Little Rock', 'Richmond'): <gurobi.Var Little Rock_to_Richmond>,\n",
              " ('Little Rock', 'St. Louis'): <gurobi.Var Little Rock_to_St. Louis>,\n",
              " ('Birmingham', 'Columbia'): <gurobi.Var Birmingham_to_Columbia>,\n",
              " ('Birmingham', 'Indianapolis'): <gurobi.Var Birmingham_to_Indianapolis>,\n",
              " ('Birmingham', 'Lexington'): <gurobi.Var Birmingham_to_Lexington>,\n",
              " ('Birmingham', 'Nashville'): <gurobi.Var Birmingham_to_Nashville>,\n",
              " ('Birmingham', 'Richmond'): <gurobi.Var Birmingham_to_Richmond>,\n",
              " ('Birmingham', 'St. Louis'): <gurobi.Var Birmingham_to_St. Louis>,\n",
              " ('Charleston', 'Columbia'): <gurobi.Var Charleston_to_Columbia>,\n",
              " ('Charleston', 'Indianapolis'): <gurobi.Var Charleston_to_Indianapolis>,\n",
              " ('Charleston', 'Lexington'): <gurobi.Var Charleston_to_Lexington>,\n",
              " ('Charleston', 'Nashville'): <gurobi.Var Charleston_to_Nashville>,\n",
              " ('Charleston', 'Richmond'): <gurobi.Var Charleston_to_Richmond>,\n",
              " ('Charleston', 'St. Louis'): <gurobi.Var Charleston_to_St. Louis>}"
            ]
          },
          "execution_count": 30,
          "metadata": {},
          "output_type": "execute_result"
        }
      ],
      "source": [
        "# loop through each p and d combination to create a decision variable\n",
        "m = gp.Model('widgets')\n",
        "x = {}\n",
        "for p in production:\n",
        "    for d in distribution:\n",
        "        x[p,d] = m.addVar(name = p+\"_to_\"+d)\n",
        "m.update()\n",
        "x"
      ]
    },
    {
      "cell_type": "code",
      "execution_count": 31,
      "id": "b66187a6-2b42-4d9b-8a96-6969da5150fb",
      "metadata": {
        "id": "b66187a6-2b42-4d9b-8a96-6969da5150fb",
        "outputId": "f6fa222a-3dce-44c9-f267-c9e4f697410f"
      },
      "outputs": [
        {
          "data": {
            "text/plain": [
              "{('Baltimore', 'Columbia'): <gurobi.Var prod_ship[Baltimore,Columbia]>,\n",
              " ('Baltimore', 'Indianapolis'): <gurobi.Var prod_ship[Baltimore,Indianapolis]>,\n",
              " ('Baltimore', 'Lexington'): <gurobi.Var prod_ship[Baltimore,Lexington]>,\n",
              " ('Baltimore', 'Nashville'): <gurobi.Var prod_ship[Baltimore,Nashville]>,\n",
              " ('Baltimore', 'Richmond'): <gurobi.Var prod_ship[Baltimore,Richmond]>,\n",
              " ('Baltimore', 'St. Louis'): <gurobi.Var prod_ship[Baltimore,St. Louis]>,\n",
              " ('Cleveland', 'Columbia'): <gurobi.Var prod_ship[Cleveland,Columbia]>,\n",
              " ('Cleveland', 'Indianapolis'): <gurobi.Var prod_ship[Cleveland,Indianapolis]>,\n",
              " ('Cleveland', 'Lexington'): <gurobi.Var prod_ship[Cleveland,Lexington]>,\n",
              " ('Cleveland', 'Nashville'): <gurobi.Var prod_ship[Cleveland,Nashville]>,\n",
              " ('Cleveland', 'Richmond'): <gurobi.Var prod_ship[Cleveland,Richmond]>,\n",
              " ('Cleveland', 'St. Louis'): <gurobi.Var prod_ship[Cleveland,St. Louis]>,\n",
              " ('Little Rock', 'Columbia'): <gurobi.Var prod_ship[Little Rock,Columbia]>,\n",
              " ('Little Rock',\n",
              "  'Indianapolis'): <gurobi.Var prod_ship[Little Rock,Indianapolis]>,\n",
              " ('Little Rock', 'Lexington'): <gurobi.Var prod_ship[Little Rock,Lexington]>,\n",
              " ('Little Rock', 'Nashville'): <gurobi.Var prod_ship[Little Rock,Nashville]>,\n",
              " ('Little Rock', 'Richmond'): <gurobi.Var prod_ship[Little Rock,Richmond]>,\n",
              " ('Little Rock', 'St. Louis'): <gurobi.Var prod_ship[Little Rock,St. Louis]>,\n",
              " ('Birmingham', 'Columbia'): <gurobi.Var prod_ship[Birmingham,Columbia]>,\n",
              " ('Birmingham',\n",
              "  'Indianapolis'): <gurobi.Var prod_ship[Birmingham,Indianapolis]>,\n",
              " ('Birmingham', 'Lexington'): <gurobi.Var prod_ship[Birmingham,Lexington]>,\n",
              " ('Birmingham', 'Nashville'): <gurobi.Var prod_ship[Birmingham,Nashville]>,\n",
              " ('Birmingham', 'Richmond'): <gurobi.Var prod_ship[Birmingham,Richmond]>,\n",
              " ('Birmingham', 'St. Louis'): <gurobi.Var prod_ship[Birmingham,St. Louis]>,\n",
              " ('Charleston', 'Columbia'): <gurobi.Var prod_ship[Charleston,Columbia]>,\n",
              " ('Charleston',\n",
              "  'Indianapolis'): <gurobi.Var prod_ship[Charleston,Indianapolis]>,\n",
              " ('Charleston', 'Lexington'): <gurobi.Var prod_ship[Charleston,Lexington]>,\n",
              " ('Charleston', 'Nashville'): <gurobi.Var prod_ship[Charleston,Nashville]>,\n",
              " ('Charleston', 'Richmond'): <gurobi.Var prod_ship[Charleston,Richmond]>,\n",
              " ('Charleston', 'St. Louis'): <gurobi.Var prod_ship[Charleston,St. Louis]>}"
            ]
          },
          "execution_count": 31,
          "metadata": {},
          "output_type": "execute_result"
        }
      ],
      "source": [
        "# Provide each set for the indices\n",
        "m = gp.Model('widgets')\n",
        "x = m.addVars(production, distribution, name = 'prod_ship')\n",
        "m.update()\n",
        "x"
      ]
    },
    {
      "cell_type": "code",
      "execution_count": 32,
      "id": "4420b1b9-844b-4dc1-90f0-955938f5885c",
      "metadata": {
        "id": "4420b1b9-844b-4dc1-90f0-955938f5885c",
        "outputId": "1a59cfd3-3dab-4ba7-a550-60d2e38954fb"
      },
      "outputs": [
        {
          "data": {
            "text/plain": [
              "{('Baltimore', 'Columbia'): <gurobi.Var prod_ship[Baltimore,Columbia]>,\n",
              " ('Baltimore', 'Indianapolis'): <gurobi.Var prod_ship[Baltimore,Indianapolis]>,\n",
              " ('Baltimore', 'Lexington'): <gurobi.Var prod_ship[Baltimore,Lexington]>,\n",
              " ('Baltimore', 'Nashville'): <gurobi.Var prod_ship[Baltimore,Nashville]>,\n",
              " ('Baltimore', 'Richmond'): <gurobi.Var prod_ship[Baltimore,Richmond]>,\n",
              " ('Baltimore', 'St. Louis'): <gurobi.Var prod_ship[Baltimore,St. Louis]>,\n",
              " ('Cleveland', 'Columbia'): <gurobi.Var prod_ship[Cleveland,Columbia]>,\n",
              " ('Cleveland', 'Indianapolis'): <gurobi.Var prod_ship[Cleveland,Indianapolis]>,\n",
              " ('Cleveland', 'Lexington'): <gurobi.Var prod_ship[Cleveland,Lexington]>,\n",
              " ('Cleveland', 'Nashville'): <gurobi.Var prod_ship[Cleveland,Nashville]>,\n",
              " ('Cleveland', 'Richmond'): <gurobi.Var prod_ship[Cleveland,Richmond]>,\n",
              " ('Cleveland', 'St. Louis'): <gurobi.Var prod_ship[Cleveland,St. Louis]>,\n",
              " ('Little Rock', 'Columbia'): <gurobi.Var prod_ship[Little Rock,Columbia]>,\n",
              " ('Little Rock',\n",
              "  'Indianapolis'): <gurobi.Var prod_ship[Little Rock,Indianapolis]>,\n",
              " ('Little Rock', 'Lexington'): <gurobi.Var prod_ship[Little Rock,Lexington]>,\n",
              " ('Little Rock', 'Nashville'): <gurobi.Var prod_ship[Little Rock,Nashville]>,\n",
              " ('Little Rock', 'Richmond'): <gurobi.Var prod_ship[Little Rock,Richmond]>,\n",
              " ('Little Rock', 'St. Louis'): <gurobi.Var prod_ship[Little Rock,St. Louis]>,\n",
              " ('Birmingham', 'Columbia'): <gurobi.Var prod_ship[Birmingham,Columbia]>,\n",
              " ('Birmingham',\n",
              "  'Indianapolis'): <gurobi.Var prod_ship[Birmingham,Indianapolis]>,\n",
              " ('Birmingham', 'Lexington'): <gurobi.Var prod_ship[Birmingham,Lexington]>,\n",
              " ('Birmingham', 'Nashville'): <gurobi.Var prod_ship[Birmingham,Nashville]>,\n",
              " ('Birmingham', 'Richmond'): <gurobi.Var prod_ship[Birmingham,Richmond]>,\n",
              " ('Birmingham', 'St. Louis'): <gurobi.Var prod_ship[Birmingham,St. Louis]>,\n",
              " ('Charleston', 'Columbia'): <gurobi.Var prod_ship[Charleston,Columbia]>,\n",
              " ('Charleston',\n",
              "  'Indianapolis'): <gurobi.Var prod_ship[Charleston,Indianapolis]>,\n",
              " ('Charleston', 'Lexington'): <gurobi.Var prod_ship[Charleston,Lexington]>,\n",
              " ('Charleston', 'Nashville'): <gurobi.Var prod_ship[Charleston,Nashville]>,\n",
              " ('Charleston', 'Richmond'): <gurobi.Var prod_ship[Charleston,Richmond]>,\n",
              " ('Charleston', 'St. Louis'): <gurobi.Var prod_ship[Charleston,St. Louis]>}"
            ]
          },
          "execution_count": 32,
          "metadata": {},
          "output_type": "execute_result"
        }
      ],
      "source": [
        "# The index of the tranporation costs have each combination of prodiction and distribution location\n",
        "m = gp.Model('widgets')\n",
        "x = m.addVars(transp_cost.index, name = 'prod_ship')\n",
        "m.update()\n",
        "x"
      ]
    },
    {
      "cell_type": "markdown",
      "id": "94a42856-5458-4501-959e-c0265af517c2",
      "metadata": {
        "id": "94a42856-5458-4501-959e-c0265af517c2"
      },
      "source": [
        "The command `m.update()` updates the model to include any changes that have been made, like adding variables. It doesn't need to be run in every cell but if you see _Awaiting Model Update_ in the output of a cell, then this should prevent that from happening.\n"
      ]
    },
    {
      "cell_type": "markdown",
      "id": "9dde6c86",
      "metadata": {
        "id": "9dde6c86"
      },
      "source": [
        "## Constraints\n",
        "\n",
        "We outlined production and demand constraints at the beginning of this example; now we formulate and code them. Note that it doesn't matter the order in which constraints (and/or decision variables) are added to the model.\n",
        "\n",
        "### Add Constraints in gurobipy\n",
        "\n",
        "Adding constraints to a model is similar to adding variables:\n",
        "\n",
        "- [addConstr()](https://www.gurobi.com/documentation/10.0/refman/py_model_addconstr.html) adds a single constraint\n",
        "- [addConstrs()](https://www.gurobi.com/documentation/10.0/refman/py_model_addconstrs.htmll) adds a group of constraints using a Python `generator` expression\n",
        "\n",
        "### Our Constraints\n",
        "\n",
        "To start, we'll formulate the demand constraints for each distribution location first and add them to the model.\n",
        "\n",
        "$$\n",
        "\\begin{align*}\n",
        "\\sum_{p}x_{p,d} \\ge n_d, \\quad \\forall d \\in D \\quad\\quad \\texttt{meet}\\_\\texttt{demand[d]}\\\\\n",
        "\\end{align*}\n",
        "$$\n",
        "\n",
        "This will be the first time we use [gp.quicksum()](https://www.gurobi.com/documentation/10.0/refman/py_quicksum.html). There are other ways to sum expressions in gurobipy and while this method isn't the most concise to code, it is easy to compare it to the summation in the formulation to see how it works.\n"
      ]
    },
    {
      "cell_type": "code",
      "execution_count": 33,
      "id": "5fee7987-ff5e-4b00-9e28-c93121c44ec3",
      "metadata": {
        "id": "5fee7987-ff5e-4b00-9e28-c93121c44ec3",
        "outputId": "b75fbbcc-190d-494a-e859-3122279854ad"
      },
      "outputs": [
        {
          "data": {
            "text/plain": [
              "{'Columbia': <gurobi.Constr meet_demand[Columbia]>,\n",
              " 'Indianapolis': <gurobi.Constr meet_demand[Indianapolis]>,\n",
              " 'Lexington': <gurobi.Constr meet_demand[Lexington]>,\n",
              " 'Nashville': <gurobi.Constr meet_demand[Nashville]>,\n",
              " 'Richmond': <gurobi.Constr meet_demand[Richmond]>,\n",
              " 'St. Louis': <gurobi.Constr meet_demand[St. Louis]>}"
            ]
          },
          "execution_count": 33,
          "metadata": {},
          "output_type": "execute_result"
        }
      ],
      "source": [
        "meet_demand = m.addConstrs((gp.quicksum(x[p,d] for p in production) >= n_demand[d] for d in distribution), name = 'meet_demand')\n",
        "#meet_demand = m.addConstrs(x.sum('*', j) >= demand[j] for j in distribution)\n",
        "m.update()\n",
        "meet_demand"
      ]
    },
    {
      "cell_type": "markdown",
      "id": "ecca1f83-c111-47f1-9a34-6eeb2a1f63b6",
      "metadata": {
        "id": "ecca1f83-c111-47f1-9a34-6eeb2a1f63b6"
      },
      "source": [
        "Next we have the maximum number of widgets each production facility can make. We also have that each facility must make at least 75% of its max production.\n",
        "\n",
        "$$\n",
        "\\begin{align*}\n",
        "\\sum_{d}x_{p,d} &\\le m_p, &\\forall p \\in P \\quad\\quad &\\texttt{can}\\_\\texttt{produce[p]}\\\\\n",
        "\\sum_{d}x_{p,d} &\\ge a*m_p,&\\forall p \\in P \\quad\\quad &\\texttt{must}\\_\\texttt{produce[p]}\\\\\n",
        "\\end{align*}\n",
        "$$\n"
      ]
    },
    {
      "cell_type": "code",
      "execution_count": 34,
      "id": "d70dbb23-db8f-40fb-af49-1682071c6c62",
      "metadata": {
        "id": "d70dbb23-db8f-40fb-af49-1682071c6c62",
        "outputId": "9f180fb8-8c59-4a41-a187-54c0f7fe511c"
      },
      "outputs": [
        {
          "data": {
            "text/plain": [
              "{'Baltimore': <gurobi.Constr can_produce[Baltimore]>,\n",
              " 'Cleveland': <gurobi.Constr can_produce[Cleveland]>,\n",
              " 'Little Rock': <gurobi.Constr can_produce[Little Rock]>,\n",
              " 'Birmingham': <gurobi.Constr can_produce[Birmingham]>,\n",
              " 'Charleston': <gurobi.Constr can_produce[Charleston]>}"
            ]
          },
          "execution_count": 34,
          "metadata": {},
          "output_type": "execute_result"
        }
      ],
      "source": [
        "can_produce = m.addConstrs((gp.quicksum(x[p,d] for d in distribution) <= max_prod[p] for p in production), name = 'can_produce')# (x.sum(i, '*')\n",
        "must_produce = m.addConstrs((gp.quicksum(x[p,d] for d in distribution) >= frac*max_prod[p] for p in production), name = 'must_produce')\n",
        "m.update()\n",
        "can_produce"
      ]
    },
    {
      "cell_type": "markdown",
      "id": "b5be8505-9359-4004-8ac0-b54502db661e",
      "metadata": {
        "id": "b5be8505-9359-4004-8ac0-b54502db661e"
      },
      "source": [
        "## Objective Function\n",
        "\n",
        "We were told to **reduce** the transportation costs and we'll use this to determine our objective function as minimizing the total cost to ship widgets from production to distribution locations.\n",
        "\n",
        "### Setting the Objective in gurobipy\n",
        "\n",
        "This is done using [setObjective()](https://www.gurobi.com/documentation/10.0/refman/py_model_setobjective.html). The second argument (in this case `GRB.MINIMIZE`) is called the model's _sense_. For a maximization problem we would use `GRB.MAXIMIZE`.\n",
        "\n",
        "### Our Objective Function\n",
        "\n",
        "$$\n",
        "\\begin{align*}\n",
        "{\\rm minimize} \\space \\sum_{p,d}c_{p,d}*x_{p,d}, \\quad \\forall p \\in P, d \\in D\\\\\n",
        "\\end{align*}\n",
        "$$\n"
      ]
    },
    {
      "cell_type": "code",
      "execution_count": 36,
      "id": "2756333c-6a92-4a3a-ba4d-9ec706d900f9",
      "metadata": {
        "id": "2756333c-6a92-4a3a-ba4d-9ec706d900f9"
      },
      "outputs": [],
      "source": [
        "m.setObjective(gp.quicksum(transp_cost[i,j]*x[i,j] for i in production for j in distribution), GRB.MINIMIZE)"
      ]
    },
    {
      "cell_type": "markdown",
      "id": "4b77c7b0-ddd1-48de-8d41-71a2e0fd77f3",
      "metadata": {
        "id": "4b77c7b0-ddd1-48de-8d41-71a2e0fd77f3"
      },
      "source": [
        "## Find, Extract, and Analyze the Solution\n",
        "\n",
        "Before running the optimization, it is a good idea to write an `lp` file. This is a text file that prints out the variables, constraints, and object like we would see in the _formulation_, just without the summation symbols and using the names we designated.\n"
      ]
    },
    {
      "cell_type": "code",
      "execution_count": 37,
      "id": "f2f93cde-16ae-4e1d-a9ab-835761587e7f",
      "metadata": {
        "id": "f2f93cde-16ae-4e1d-a9ab-835761587e7f",
        "outputId": "99000f2c-f2a1-411d-a673-a648698680a3"
      },
      "outputs": [
        {
          "name": "stdout",
          "output_type": "stream",
          "text": [
            "Warning: variable name \"prod_ship[Baltimore,St. Louis]\" has a space\n",
            "Warning: constraint name \"meet_demand[St. Louis]\" has a space\n",
            "Warning: to let Gurobi read it back, use rlp format\n"
          ]
        }
      ],
      "source": [
        "# For Mac, you can read the .lp file using Sublime Text (or other)\n",
        "\n",
        "m.write('widget_shipment.lp')"
      ]
    },
    {
      "cell_type": "markdown",
      "id": "12763405-b27f-4a6d-897f-db30df211caa",
      "metadata": {
        "id": "12763405-b27f-4a6d-897f-db30df211caa"
      },
      "source": [
        "### Run the Optimization\n"
      ]
    },
    {
      "cell_type": "code",
      "execution_count": 38,
      "id": "119fc40e-d1fc-4d13-b227-90255fd806ea",
      "metadata": {
        "id": "119fc40e-d1fc-4d13-b227-90255fd806ea",
        "outputId": "8c41dd3f-5a1b-4d40-e8f5-f1645aa23f19"
      },
      "outputs": [
        {
          "name": "stdout",
          "output_type": "stream",
          "text": [
            "Gurobi Optimizer version 11.0.2 build v11.0.2rc0 (mac64[x86] - Darwin 23.5.0 23F79)\n",
            "\n",
            "CPU model: Intel(R) Core(TM) i7-9750H CPU @ 2.60GHz\n",
            "Thread count: 6 physical cores, 12 logical processors, using up to 12 threads\n",
            "\n",
            "Optimize a model with 16 rows, 30 columns and 90 nonzeros\n",
            "Model fingerprint: 0x20186c14\n",
            "Coefficient statistics:\n",
            "  Matrix range     [1e+00, 1e+00]\n",
            "  Objective range  [2e+00, 7e+00]\n",
            "  Bounds range     [0e+00, 0e+00]\n",
            "  RHS range        [6e+01, 2e+02]\n",
            "Presolve removed 5 rows and 0 columns\n",
            "Presolve time: 0.01s\n",
            "Presolved: 11 rows, 35 columns, 65 nonzeros\n",
            "\n",
            "Iteration    Objective       Primal Inf.    Dual Inf.      Time\n",
            "       0    0.0000000e+00   1.610000e+02   0.000000e+00      0s\n",
            "      15    1.7048900e+03   0.000000e+00   0.000000e+00      0s\n",
            "\n",
            "Solved in 15 iterations and 0.01 seconds (0.00 work units)\n",
            "Optimal objective  1.704890000e+03\n"
          ]
        }
      ],
      "source": [
        "m.optimize()"
      ]
    },
    {
      "cell_type": "markdown",
      "id": "2ee05c74-fe8d-445f-9ffe-4a25d123a17b",
      "metadata": {
        "id": "2ee05c74-fe8d-445f-9ffe-4a25d123a17b"
      },
      "source": [
        "### Extract the Solution\n",
        "\n",
        "There are many ways to get the values of decision variables out of gurobipy.\n"
      ]
    },
    {
      "cell_type": "code",
      "execution_count": 39,
      "id": "69d92eda-0937-4aff-8e60-ff012d766fa0",
      "metadata": {
        "id": "69d92eda-0937-4aff-8e60-ff012d766fa0",
        "outputId": "c34c59c7-e6ee-4b56-baf7-3601aeafad61"
      },
      "outputs": [
        {
          "data": {
            "text/html": [
              "<div>\n",
              "<style scoped>\n",
              "    .dataframe tbody tr th:only-of-type {\n",
              "        vertical-align: middle;\n",
              "    }\n",
              "\n",
              "    .dataframe tbody tr th {\n",
              "        vertical-align: top;\n",
              "    }\n",
              "\n",
              "    .dataframe thead th {\n",
              "        text-align: right;\n",
              "    }\n",
              "</style>\n",
              "<table border=\"1\" class=\"dataframe\">\n",
              "  <thead>\n",
              "    <tr style=\"text-align: right;\">\n",
              "      <th></th>\n",
              "      <th></th>\n",
              "      <th>cost</th>\n",
              "      <th>shipment</th>\n",
              "    </tr>\n",
              "    <tr>\n",
              "      <th>production</th>\n",
              "      <th>distribution</th>\n",
              "      <th></th>\n",
              "      <th></th>\n",
              "    </tr>\n",
              "  </thead>\n",
              "  <tbody>\n",
              "    <tr>\n",
              "      <th rowspan=\"2\" valign=\"top\">Baltimore</th>\n",
              "      <th>Nashville</th>\n",
              "      <td>5.96</td>\n",
              "      <td>19.0</td>\n",
              "    </tr>\n",
              "    <tr>\n",
              "      <th>Richmond</th>\n",
              "      <td>1.96</td>\n",
              "      <td>116.0</td>\n",
              "    </tr>\n",
              "    <tr>\n",
              "      <th rowspan=\"3\" valign=\"top\">Cleveland</th>\n",
              "      <th>Columbia</th>\n",
              "      <td>2.43</td>\n",
              "      <td>89.0</td>\n",
              "    </tr>\n",
              "    <tr>\n",
              "      <th>Indianapolis</th>\n",
              "      <td>2.37</td>\n",
              "      <td>95.0</td>\n",
              "    </tr>\n",
              "    <tr>\n",
              "      <th>Nashville</th>\n",
              "      <td>4.13</td>\n",
              "      <td>2.0</td>\n",
              "    </tr>\n",
              "    <tr>\n",
              "      <th>Little Rock</th>\n",
              "      <th>St. Louis</th>\n",
              "      <td>2.92</td>\n",
              "      <td>140.0</td>\n",
              "    </tr>\n",
              "    <tr>\n",
              "      <th>Birmingham</th>\n",
              "      <th>Nashville</th>\n",
              "      <td>1.53</td>\n",
              "      <td>80.0</td>\n",
              "    </tr>\n",
              "    <tr>\n",
              "      <th rowspan=\"2\" valign=\"top\">Charleston</th>\n",
              "      <th>Lexington</th>\n",
              "      <td>1.61</td>\n",
              "      <td>121.0</td>\n",
              "    </tr>\n",
              "    <tr>\n",
              "      <th>St. Louis</th>\n",
              "      <td>4.60</td>\n",
              "      <td>41.0</td>\n",
              "    </tr>\n",
              "  </tbody>\n",
              "</table>\n",
              "</div>"
            ],
            "text/plain": [
              "                          cost  shipment\n",
              "production  distribution                \n",
              "Baltimore   Nashville     5.96      19.0\n",
              "            Richmond      1.96     116.0\n",
              "Cleveland   Columbia      2.43      89.0\n",
              "            Indianapolis  2.37      95.0\n",
              "            Nashville     4.13       2.0\n",
              "Little Rock St. Louis     2.92     140.0\n",
              "Birmingham  Nashville     1.53      80.0\n",
              "Charleston  Lexington     1.61     121.0\n",
              "            St. Louis     4.60      41.0"
            ]
          },
          "execution_count": 39,
          "metadata": {},
          "output_type": "execute_result"
        }
      ],
      "source": [
        "x_values = pd.Series(m.getAttr('X', x), name = \"shipment\", index = transp_cost.index)\n",
        "sol = pd.concat([transp_cost, x_values], axis=1)\n",
        "#sol\n",
        "sol[sol.shipment > 0]"
      ]
    },
    {
      "cell_type": "markdown",
      "id": "09af17eb-34c3-44f0-a65b-5835fd313f24",
      "metadata": {
        "id": "09af17eb-34c3-44f0-a65b-5835fd313f24"
      },
      "source": [
        "Here are a couple of other ways to get the solution.\n"
      ]
    },
    {
      "cell_type": "code",
      "execution_count": 40,
      "id": "4143dc50-9073-4131-896f-ec7261160c0c",
      "metadata": {
        "id": "4143dc50-9073-4131-896f-ec7261160c0c",
        "outputId": "7f9e30ba-3305-4874-ac13-05b82e2a4bd0"
      },
      "outputs": [
        {
          "data": {
            "text/plain": [
              "{'prod_ship[Baltimore,Columbia]': 0.0,\n",
              " 'prod_ship[Baltimore,Indianapolis]': 0.0,\n",
              " 'prod_ship[Baltimore,Lexington]': 0.0,\n",
              " 'prod_ship[Baltimore,Nashville]': 19.0,\n",
              " 'prod_ship[Baltimore,Richmond]': 116.0,\n",
              " 'prod_ship[Baltimore,St. Louis]': 0.0,\n",
              " 'prod_ship[Cleveland,Columbia]': 89.0,\n",
              " 'prod_ship[Cleveland,Indianapolis]': 95.0,\n",
              " 'prod_ship[Cleveland,Lexington]': 0.0,\n",
              " 'prod_ship[Cleveland,Nashville]': 2.0,\n",
              " 'prod_ship[Cleveland,Richmond]': 0.0,\n",
              " 'prod_ship[Cleveland,St. Louis]': 0.0,\n",
              " 'prod_ship[Little Rock,Columbia]': 0.0,\n",
              " 'prod_ship[Little Rock,Indianapolis]': 0.0,\n",
              " 'prod_ship[Little Rock,Lexington]': 0.0,\n",
              " 'prod_ship[Little Rock,Nashville]': 0.0,\n",
              " 'prod_ship[Little Rock,Richmond]': 0.0,\n",
              " 'prod_ship[Little Rock,St. Louis]': 140.0,\n",
              " 'prod_ship[Birmingham,Columbia]': 0.0,\n",
              " 'prod_ship[Birmingham,Indianapolis]': 0.0,\n",
              " 'prod_ship[Birmingham,Lexington]': 0.0,\n",
              " 'prod_ship[Birmingham,Nashville]': 80.0,\n",
              " 'prod_ship[Birmingham,Richmond]': 0.0,\n",
              " 'prod_ship[Birmingham,St. Louis]': 0.0,\n",
              " 'prod_ship[Charleston,Columbia]': 0.0,\n",
              " 'prod_ship[Charleston,Indianapolis]': 0.0,\n",
              " 'prod_ship[Charleston,Lexington]': 121.0,\n",
              " 'prod_ship[Charleston,Nashville]': 0.0,\n",
              " 'prod_ship[Charleston,Richmond]': 0.0,\n",
              " 'prod_ship[Charleston,St. Louis]': 41.0}"
            ]
          },
          "execution_count": 40,
          "metadata": {},
          "output_type": "execute_result"
        }
      ],
      "source": [
        "# You can get the name and value of all the decision variables:\n",
        "all_vars = {v.varName: v.x for v in m.getVars()}\n",
        "all_vars"
      ]
    },
    {
      "cell_type": "markdown",
      "id": "80e2541e-d147-477c-af49-965e6aa835d0",
      "metadata": {
        "id": "80e2541e-d147-477c-af49-965e6aa835d0"
      },
      "source": [
        "Or you can only iterate over a specific variable and only return values that are of interest to you. Remember, x is a dict in python. So, iterate over it, the same way you iterate over any dictionary\n"
      ]
    },
    {
      "cell_type": "code",
      "execution_count": 41,
      "id": "8b2613a8-2239-4e81-af59-86420dbafe91",
      "metadata": {
        "id": "8b2613a8-2239-4e81-af59-86420dbafe91",
        "outputId": "f3b0bd8a-c710-475c-a1dc-1340b207752a"
      },
      "outputs": [
        {
          "data": {
            "text/plain": [
              "{('Baltimore', 'Nashville'): 19.0,\n",
              " ('Baltimore', 'Richmond'): 116.0,\n",
              " ('Cleveland', 'Columbia'): 89.0,\n",
              " ('Cleveland', 'Indianapolis'): 95.0,\n",
              " ('Cleveland', 'Nashville'): 2.0,\n",
              " ('Little Rock', 'St. Louis'): 140.0,\n",
              " ('Birmingham', 'Nashville'): 80.0,\n",
              " ('Charleston', 'Lexington'): 121.0,\n",
              " ('Charleston', 'St. Louis'): 41.0}"
            ]
          },
          "execution_count": 41,
          "metadata": {},
          "output_type": "execute_result"
        }
      ],
      "source": [
        "xvals = {k: v.x for k,v in x.items() if v.x > 0}\n",
        "xvals"
      ]
    },
    {
      "cell_type": "code",
      "execution_count": 42,
      "id": "7572f7c5-41ac-46fa-a2ff-a1a242cd7b98",
      "metadata": {
        "id": "7572f7c5-41ac-46fa-a2ff-a1a242cd7b98",
        "outputId": "d67cf5a3-570d-4848-fddd-fb7d139cdc8a"
      },
      "outputs": [
        {
          "data": {
            "text/plain": [
              "(703.0, 703)"
            ]
          },
          "execution_count": 42,
          "metadata": {},
          "output_type": "execute_result"
        }
      ],
      "source": [
        "x_values.sum(), n_demand.sum()"
      ]
    },
    {
      "cell_type": "markdown",
      "id": "bde35449-0b63-4bb4-9926-d20013b1b95b",
      "metadata": {
        "id": "bde35449-0b63-4bb4-9926-d20013b1b95b"
      },
      "source": [
        "### Solution Analysis\n",
        "\n",
        "While determining the optimal transportation of widgets was our goal, we may want to dig a little deeper into the solution. For example we can aggregate the total production by facility to see which locations (if any) did not produce their maximum capacity of widgets and which (if any) production facilities are at the lower bound of their production.\n"
      ]
    },
    {
      "cell_type": "code",
      "execution_count": 43,
      "id": "53a42bc7-1e45-4245-84b9-f648d7e74fa5",
      "metadata": {
        "id": "53a42bc7-1e45-4245-84b9-f648d7e74fa5",
        "outputId": "9603e649-4516-4004-efd3-e08b65b49e3e"
      },
      "outputs": [
        {
          "data": {
            "text/html": [
              "<div>\n",
              "<style scoped>\n",
              "    .dataframe tbody tr th:only-of-type {\n",
              "        vertical-align: middle;\n",
              "    }\n",
              "\n",
              "    .dataframe tbody tr th {\n",
              "        vertical-align: top;\n",
              "    }\n",
              "\n",
              "    .dataframe thead th {\n",
              "        text-align: right;\n",
              "    }\n",
              "</style>\n",
              "<table border=\"1\" class=\"dataframe\">\n",
              "  <thead>\n",
              "    <tr style=\"text-align: right;\">\n",
              "      <th></th>\n",
              "      <th>Remaining</th>\n",
              "      <th>Utilization</th>\n",
              "    </tr>\n",
              "  </thead>\n",
              "  <tbody>\n",
              "    <tr>\n",
              "      <th>Baltimore</th>\n",
              "      <td>45.0</td>\n",
              "      <td>0.75</td>\n",
              "    </tr>\n",
              "    <tr>\n",
              "      <th>Birmingham</th>\n",
              "      <td>0.0</td>\n",
              "      <td>1.00</td>\n",
              "    </tr>\n",
              "    <tr>\n",
              "      <th>Charleston</th>\n",
              "      <td>18.0</td>\n",
              "      <td>0.90</td>\n",
              "    </tr>\n",
              "    <tr>\n",
              "      <th>Cleveland</th>\n",
              "      <td>14.0</td>\n",
              "      <td>0.93</td>\n",
              "    </tr>\n",
              "    <tr>\n",
              "      <th>Little Rock</th>\n",
              "      <td>0.0</td>\n",
              "      <td>1.00</td>\n",
              "    </tr>\n",
              "  </tbody>\n",
              "</table>\n",
              "</div>"
            ],
            "text/plain": [
              "             Remaining  Utilization\n",
              "Baltimore         45.0         0.75\n",
              "Birmingham         0.0         1.00\n",
              "Charleston        18.0         0.90\n",
              "Cleveland         14.0         0.93\n",
              "Little Rock        0.0         1.00"
            ]
          },
          "execution_count": 43,
          "metadata": {},
          "output_type": "execute_result"
        }
      ],
      "source": [
        "# Sum the shipment amount by production facility\n",
        "ship_out = sol.groupby('production')['shipment'].sum()\n",
        "pd.DataFrame({'Remaining':max_prod - ship_out, 'Utilization':ship_out/max_prod})"
      ]
    },
    {
      "cell_type": "markdown",
      "id": "105d6054-67e4-4237-b00a-705b9d34a153",
      "metadata": {
        "id": "105d6054-67e4-4237-b00a-705b9d34a153"
      },
      "source": [
        "In mathematical optimization, when the left-hand and right-hand sides of an inequality constraint are equal, we say the constraint is `binding`. When this _doesn't happen_ then there is `slack` or `surplus` in that constraint. We can get this value by calling the `Slack` attribute of a constraint.\n"
      ]
    },
    {
      "cell_type": "code",
      "execution_count": 44,
      "id": "30213e7c-bc28-4d31-be7c-b57925ee68b1",
      "metadata": {
        "id": "30213e7c-bc28-4d31-be7c-b57925ee68b1",
        "outputId": "fcb47e45-f793-4805-f184-c2f2aaf05eba"
      },
      "outputs": [
        {
          "data": {
            "text/html": [
              "<div>\n",
              "<style scoped>\n",
              "    .dataframe tbody tr th:only-of-type {\n",
              "        vertical-align: middle;\n",
              "    }\n",
              "\n",
              "    .dataframe tbody tr th {\n",
              "        vertical-align: top;\n",
              "    }\n",
              "\n",
              "    .dataframe thead th {\n",
              "        text-align: right;\n",
              "    }\n",
              "</style>\n",
              "<table border=\"1\" class=\"dataframe\">\n",
              "  <thead>\n",
              "    <tr style=\"text-align: right;\">\n",
              "      <th></th>\n",
              "      <th>Remaining</th>\n",
              "      <th>Utilization</th>\n",
              "    </tr>\n",
              "  </thead>\n",
              "  <tbody>\n",
              "    <tr>\n",
              "      <th>Baltimore</th>\n",
              "      <td>45.0</td>\n",
              "      <td>0.75</td>\n",
              "    </tr>\n",
              "    <tr>\n",
              "      <th>Cleveland</th>\n",
              "      <td>14.0</td>\n",
              "      <td>0.93</td>\n",
              "    </tr>\n",
              "    <tr>\n",
              "      <th>Little Rock</th>\n",
              "      <td>0.0</td>\n",
              "      <td>1.00</td>\n",
              "    </tr>\n",
              "    <tr>\n",
              "      <th>Birmingham</th>\n",
              "      <td>0.0</td>\n",
              "      <td>1.00</td>\n",
              "    </tr>\n",
              "    <tr>\n",
              "      <th>Charleston</th>\n",
              "      <td>18.0</td>\n",
              "      <td>0.90</td>\n",
              "    </tr>\n",
              "  </tbody>\n",
              "</table>\n",
              "</div>"
            ],
            "text/plain": [
              "             Remaining  Utilization\n",
              "Baltimore         45.0         0.75\n",
              "Cleveland         14.0         0.93\n",
              "Little Rock        0.0         1.00\n",
              "Birmingham         0.0         1.00\n",
              "Charleston        18.0         0.90"
            ]
          },
          "execution_count": 44,
          "metadata": {},
          "output_type": "execute_result"
        }
      ],
      "source": [
        "pd.DataFrame({'Remaining':[can_produce[p].Slack for p in production],\n",
        "              'Utilization':[1-can_produce[p].Slack/max_prod[p] for p in production]},\n",
        "             index = production)"
      ]
    },
    {
      "cell_type": "markdown",
      "id": "8f2d53b5-54bc-48c7-97e6-26c1c0f329b0",
      "metadata": {
        "id": "8f2d53b5-54bc-48c7-97e6-26c1c0f329b0"
      },
      "source": [
        "# Using Binary Variables\n",
        "\n",
        "As we described in the first session and also at the top of this notebook, binary variables are used to choose alternatives in mathematical optimization. They can be interpreted as a yes/no decision or an on/off switch.\n",
        "\n",
        "In the original problem Birmingham's production is much lower than the rest of the facilities. Suppose we have the option to expand that facilities max capacity by either 25 or 50 widgets, but there is a cost of \\$50 and \\$75, respectively, to choose one of these options and we can choose at most one. We'll use a binary decision variable for each option named $x_{prod}$.\n",
        "\n",
        "Let $x_{prod_0} = 1$ if we choose the first option and expand production capacity by 25 and $0$ otherwise.\n",
        "Let $x_{prod_1} = 1$ if we choose the second option and expand production capacity by 50 and $0$ otherwise.\n",
        "\n",
        "While it's fairly common to use single lowercase letters as decision variables, it is not necessary and you'll see variables defined as above (where they are more descriptive) quite often. We will formulate a new model that contains the same decision variables and demand constraints as before.\n"
      ]
    },
    {
      "cell_type": "code",
      "execution_count": 45,
      "id": "dd9a333d-ae1d-4b29-a69c-760a7414ef59",
      "metadata": {
        "id": "dd9a333d-ae1d-4b29-a69c-760a7414ef59"
      },
      "outputs": [],
      "source": [
        "# We use m2 for the second model\n",
        "# These parts are the same as above outside of the new model name\n",
        "m2 = gp.Model('widgets2')\n",
        "x = m2.addVars(production, distribution, obj = transp_cost, name = 'prod_ship')\n",
        "meet_demand = m2.addConstrs((gp.quicksum(x[p,d] for p in production) >= n_demand[d] for d in distribution), name = 'meet_demand')"
      ]
    },
    {
      "cell_type": "markdown",
      "id": "5bc726e6-7982-46bd-9568-925351b22306",
      "metadata": {
        "id": "5bc726e6-7982-46bd-9568-925351b22306"
      },
      "source": [
        "In the cell above we did use new argument of the `addVars()` function: `obj`. This will set the coefficient of the added decision variables in the objective function and is equivalent to what we did earlier by attaching the transportation costs between each production and distribution location to the appropriate decision variable.\n",
        "\n",
        "Next, we'll add the same constraints for production limits as before for each production facility other than Birmingham. The formulation is basically the same other than the set the constraints hold for.\n",
        "\n",
        "$$\n",
        "\\begin{align*}\n",
        "\\sum_{d}x_{p,d} &\\le m_p, &\\forall p \\in P -\\{\\texttt{Birmingham}\\} \\\\\n",
        "\\sum_{d}x_{p,d} &\\ge a*m_p,&\\forall p \\in P -\\{\\texttt{Birmingham}\\} \\\\\n",
        "\\end{align*}\n",
        "$$\n",
        "\n",
        "In gurobipy, this is done by adding a condition in the `generator` expression.\n"
      ]
    },
    {
      "cell_type": "code",
      "execution_count": 46,
      "id": "38e30563-b8c8-454b-9b61-e6ef6fa5fe83",
      "metadata": {
        "id": "38e30563-b8c8-454b-9b61-e6ef6fa5fe83"
      },
      "outputs": [],
      "source": [
        "can_produce = m2.addConstrs((gp.quicksum(x[p,d] for d in distribution) <= max_prod[p] for p in production if p != 'Birmingham'), name = 'can_produce')\n",
        "must_produce =  m2.addConstrs((gp.quicksum(x[p,d] for d in distribution) >= frac*max_prod[p] for p in production if p != 'Birmingham'), name = 'must_produce')"
      ]
    },
    {
      "cell_type": "markdown",
      "id": "ed539f12-4ce2-4de6-820f-076e45ac0a73",
      "metadata": {
        "id": "ed539f12-4ce2-4de6-820f-076e45ac0a73"
      },
      "source": [
        "Now, add the new binary variables.\n"
      ]
    },
    {
      "cell_type": "code",
      "execution_count": 47,
      "id": "5eda68b8-6f7c-4245-8553-42f41fff5a7a",
      "metadata": {
        "id": "5eda68b8-6f7c-4245-8553-42f41fff5a7a"
      },
      "outputs": [],
      "source": [
        "xprod = m2.addVars(range(2), vtype = GRB.BINARY, obj = [50, 75], name = 'expand_Birmingham_prod')"
      ]
    },
    {
      "cell_type": "markdown",
      "id": "bf53d755-2ff2-46e3-a38a-2c8fb1434c64",
      "metadata": {
        "id": "bf53d755-2ff2-46e3-a38a-2c8fb1434c64"
      },
      "source": [
        "Let's breakdown each of the arguments in the cell above -- there are a few new things there.\n",
        "\n",
        "1. `range(n)` is used to add $n$ decision variables. In this case we add 2 variables.\n",
        "2. We need to declare this as a binary variable using `vtype`.\n",
        "3. We again use the `obj` capability to immediately set the objective function coefficients for these variables.\n",
        "\n",
        "The objective and new binary variables look like this in the formulation:\n",
        "\n",
        "$$\n",
        "\\begin{align*}\n",
        "{\\rm minimize} \\space &\\sum_{p,d}c_{p,d}*x_{p,d} + 50*x_{prod_0} + 75*x_{prod_1}, \\quad &\\forall p \\in P, d \\in D\\\\\n",
        "&x_{prod_i} \\in \\{0,1\\}, &{\\rm for} \\space i \\in \\{0,1\\}\n",
        "\\end{align*}\n",
        "$$\n",
        "\n",
        "Next we have the production constraints that are specific to the Birmingham facility.\n",
        "\n",
        "$$\n",
        "\\begin{align*}\n",
        "\\sum_{d}x_{p,d} &\\le m_p + 25*x_{prod_0} + 50*x_{prod_1}, & p = \\texttt{Birmingham} \\\\\n",
        "\\sum_{d}x_{p,d} &\\ge a*(m_p+ 25*x_{prod_0} + 50*x_{prod_1}),& p = \\texttt{Birmingham} \\\\\n",
        "\\end{align*}\n",
        "$$\n"
      ]
    },
    {
      "cell_type": "code",
      "execution_count": 48,
      "id": "487ee3df-6cf0-421a-95dc-54440248d81f",
      "metadata": {
        "id": "487ee3df-6cf0-421a-95dc-54440248d81f"
      },
      "outputs": [],
      "source": [
        "Birmingham_max = m2.addConstr(gp.quicksum(x['Birmingham',d] for d in distribution) <= max_prod['Birmingham'] + 25*xprod[0] + 50*xprod[1], name = 'Birmingham_add_max')\n",
        "Birmingham_min = m2.addConstr(gp.quicksum(x['Birmingham',d] for d in distribution) >= frac*(max_prod['Birmingham'] + 25*xprod[0] + 50*xprod[1]), name = 'Birmingham_add_min')"
      ]
    },
    {
      "cell_type": "markdown",
      "id": "4ed63a6b-ef71-4eb6-b237-637096518f0a",
      "metadata": {
        "id": "4ed63a6b-ef71-4eb6-b237-637096518f0a"
      },
      "source": [
        "It was stated above that we can select at most one of the expansion options which means we cannot allow both $xprod_0$ and $xprod_1$ to equal one. To model this we add a constraint limiting the sum of these two binary variables to at most one.\n",
        "\n",
        "$$\n",
        "\\begin{align*}\n",
        "\\sum_{i}x_{prod_i} \\le 1\n",
        "\\end{align*}\n",
        "$$\n",
        "\n",
        "The corresponding constraint in gurobipy:\n"
      ]
    },
    {
      "cell_type": "code",
      "execution_count": 49,
      "id": "a48175c5-6b22-402f-a207-9f590b7dc5cd",
      "metadata": {
        "id": "a48175c5-6b22-402f-a207-9f590b7dc5cd"
      },
      "outputs": [],
      "source": [
        "Birmingham_lim = m2.addConstr(gp.quicksum(xprod[i] for i in range(2)) <= 1, name = 'expansion_choice')"
      ]
    },
    {
      "cell_type": "markdown",
      "id": "14e96d35-1d54-4c65-be2c-0b4c6d26d964",
      "metadata": {
        "id": "14e96d35-1d54-4c65-be2c-0b4c6d26d964"
      },
      "source": [
        "Now we can run this optimization model and see if this potential expansion will help us reduce overall costs.\n"
      ]
    },
    {
      "cell_type": "code",
      "execution_count": 50,
      "id": "fb182d4c-c533-4cc1-a559-05c07ef18975",
      "metadata": {
        "id": "fb182d4c-c533-4cc1-a559-05c07ef18975",
        "outputId": "53cda06e-4e08-4027-b064-ea4b47af8021"
      },
      "outputs": [
        {
          "name": "stdout",
          "output_type": "stream",
          "text": [
            "Gurobi Optimizer version 11.0.2 build v11.0.2rc0 (mac64[x86] - Darwin 23.5.0 23F79)\n",
            "\n",
            "CPU model: Intel(R) Core(TM) i7-9750H CPU @ 2.60GHz\n",
            "Thread count: 6 physical cores, 12 logical processors, using up to 12 threads\n",
            "\n",
            "Optimize a model with 17 rows, 32 columns and 96 nonzeros\n",
            "Model fingerprint: 0x80ef8db6\n",
            "Variable types: 30 continuous, 2 integer (2 binary)\n",
            "Coefficient statistics:\n",
            "  Matrix range     [1e+00, 5e+01]\n",
            "  Objective range  [2e+00, 8e+01]\n",
            "  Bounds range     [1e+00, 1e+00]\n",
            "  RHS range        [1e+00, 2e+02]\n",
            "Presolve time: 0.00s\n",
            "Presolved: 17 rows, 32 columns, 96 nonzeros\n",
            "Variable types: 30 continuous, 2 integer (2 binary)\n",
            "Found heuristic solution: objective 1704.8900000\n",
            "\n",
            "Root relaxation: objective 1.684260e+03, 14 iterations, 0.00 seconds (0.00 work units)\n",
            "\n",
            "    Nodes    |    Current Node    |     Objective Bounds      |     Work\n",
            " Expl Unexpl |  Obj  Depth IntInf | Incumbent    BestBd   Gap | It/Node Time\n",
            "\n",
            "     0     0 1684.26000    0    1 1704.89000 1684.26000  1.21%     -    0s\n",
            "H    0     0                    1700.4000000 1684.26000  0.95%     -    0s\n",
            "\n",
            "Cutting planes:\n",
            "  Implied bound: 1\n",
            "  MIR: 1\n",
            "\n",
            "Explored 1 nodes (14 simplex iterations) in 0.02 seconds (0.00 work units)\n",
            "Thread count was 12 (of 12 available processors)\n",
            "\n",
            "Solution count 2: 1700.4 1704.89 \n",
            "\n",
            "Optimal solution found (tolerance 1.00e-04)\n",
            "Best objective 1.700400000000e+03, best bound 1.700400000000e+03, gap 0.0000%\n"
          ]
        }
      ],
      "source": [
        "m2.optimize()"
      ]
    },
    {
      "cell_type": "code",
      "execution_count": 51,
      "id": "34d94ec0-6ab4-4b68-8181-0c432595642e",
      "metadata": {
        "id": "34d94ec0-6ab4-4b68-8181-0c432595642e",
        "outputId": "d8931189-9d11-4c74-f4c5-762c4800ec67"
      },
      "outputs": [
        {
          "name": "stdout",
          "output_type": "stream",
          "text": [
            "The original model had a total cost of 1704.89\n",
            "The new formualtion has a total cost of 1700.4\n"
          ]
        }
      ],
      "source": [
        "obj1 = m.getObjective()\n",
        "obj2 = m2.getObjective()\n",
        "print(f\"The original model had a total cost of {round(obj1.getValue(),2)}\")\n",
        "print(f\"The new formualtion has a total cost of {round(obj2.getValue(),2)}\")"
      ]
    },
    {
      "cell_type": "markdown",
      "id": "6813d599-d8c1-49c3-8f09-f495c3b1af16",
      "metadata": {
        "id": "6813d599-d8c1-49c3-8f09-f495c3b1af16"
      },
      "source": [
        "What does the change in objective function value tell us?\n",
        "\n",
        "Let's look at values of our binary variables.\n"
      ]
    },
    {
      "cell_type": "code",
      "execution_count": 52,
      "id": "3177169c-67b9-4db3-804d-8b17b32fe70d",
      "metadata": {
        "id": "3177169c-67b9-4db3-804d-8b17b32fe70d",
        "outputId": "879aa51b-a9a7-4199-b9c2-f02d2904e5a0"
      },
      "outputs": [
        {
          "data": {
            "text/plain": [
              "0    1.0\n",
              "1    0.0\n",
              "dtype: float64"
            ]
          },
          "execution_count": 52,
          "metadata": {},
          "output_type": "execute_result"
        }
      ],
      "source": [
        "pd.Series(m2.getAttr('X', xprod))"
      ]
    },
    {
      "cell_type": "markdown",
      "id": "3410274c-55fd-4724-9f76-92cfc8178647",
      "metadata": {
        "id": "3410274c-55fd-4724-9f76-92cfc8178647"
      },
      "source": [
        "The model selected the first expansion option since $x_{prod_0} = 1$, which was increasing production by 25 widgets in Birmingham. We can see the rest of the solution, which will include the increase in Birmingham's production capacity.\n"
      ]
    },
    {
      "cell_type": "code",
      "execution_count": 53,
      "id": "05f918a8-ed81-4210-a341-c2d401f1276c",
      "metadata": {
        "id": "05f918a8-ed81-4210-a341-c2d401f1276c",
        "outputId": "a0d99302-31f3-453c-88cc-7a99b3660a3e"
      },
      "outputs": [
        {
          "data": {
            "text/html": [
              "<div>\n",
              "<style scoped>\n",
              "    .dataframe tbody tr th:only-of-type {\n",
              "        vertical-align: middle;\n",
              "    }\n",
              "\n",
              "    .dataframe tbody tr th {\n",
              "        vertical-align: top;\n",
              "    }\n",
              "\n",
              "    .dataframe thead th {\n",
              "        text-align: right;\n",
              "    }\n",
              "</style>\n",
              "<table border=\"1\" class=\"dataframe\">\n",
              "  <thead>\n",
              "    <tr style=\"text-align: right;\">\n",
              "      <th></th>\n",
              "      <th></th>\n",
              "      <th>cost</th>\n",
              "      <th>shipment</th>\n",
              "    </tr>\n",
              "    <tr>\n",
              "      <th>production</th>\n",
              "      <th>distribution</th>\n",
              "      <th></th>\n",
              "      <th></th>\n",
              "    </tr>\n",
              "  </thead>\n",
              "  <tbody>\n",
              "    <tr>\n",
              "      <th>Baltimore</th>\n",
              "      <th>Richmond</th>\n",
              "      <td>1.96</td>\n",
              "      <td>135.0</td>\n",
              "    </tr>\n",
              "    <tr>\n",
              "      <th rowspan=\"2\" valign=\"top\">Cleveland</th>\n",
              "      <th>Columbia</th>\n",
              "      <td>2.43</td>\n",
              "      <td>89.0</td>\n",
              "    </tr>\n",
              "    <tr>\n",
              "      <th>Indianapolis</th>\n",
              "      <td>2.37</td>\n",
              "      <td>95.0</td>\n",
              "    </tr>\n",
              "    <tr>\n",
              "      <th>Little Rock</th>\n",
              "      <th>St. Louis</th>\n",
              "      <td>2.92</td>\n",
              "      <td>140.0</td>\n",
              "    </tr>\n",
              "    <tr>\n",
              "      <th rowspan=\"2\" valign=\"top\">Birmingham</th>\n",
              "      <th>Nashville</th>\n",
              "      <td>1.53</td>\n",
              "      <td>101.0</td>\n",
              "    </tr>\n",
              "    <tr>\n",
              "      <th>St. Louis</th>\n",
              "      <td>4.01</td>\n",
              "      <td>4.0</td>\n",
              "    </tr>\n",
              "    <tr>\n",
              "      <th rowspan=\"2\" valign=\"top\">Charleston</th>\n",
              "      <th>Lexington</th>\n",
              "      <td>1.61</td>\n",
              "      <td>121.0</td>\n",
              "    </tr>\n",
              "    <tr>\n",
              "      <th>St. Louis</th>\n",
              "      <td>4.60</td>\n",
              "      <td>37.0</td>\n",
              "    </tr>\n",
              "  </tbody>\n",
              "</table>\n",
              "</div>"
            ],
            "text/plain": [
              "                          cost  shipment\n",
              "production  distribution                \n",
              "Baltimore   Richmond      1.96     135.0\n",
              "Cleveland   Columbia      2.43      89.0\n",
              "            Indianapolis  2.37      95.0\n",
              "Little Rock St. Louis     2.92     140.0\n",
              "Birmingham  Nashville     1.53     101.0\n",
              "            St. Louis     4.01       4.0\n",
              "Charleston  Lexington     1.61     121.0\n",
              "            St. Louis     4.60      37.0"
            ]
          },
          "execution_count": 53,
          "metadata": {},
          "output_type": "execute_result"
        }
      ],
      "source": [
        "x2_values = pd.Series(m2.getAttr('X', x), name = \"shipment\", index = transp_cost.index)\n",
        "sol2 = pd.concat([transp_cost, x2_values], axis=1)\n",
        "sol2[sol2.shipment > 0]"
      ]
    },
    {
      "cell_type": "code",
      "execution_count": 54,
      "id": "3f750129",
      "metadata": {
        "id": "3f750129",
        "outputId": "541ad572-c2fa-497a-8b07-be2698e94ab0"
      },
      "outputs": [
        {
          "name": "stdout",
          "output_type": "stream",
          "text": [
            "Freeing default Gurobi environment\n"
          ]
        }
      ],
      "source": [
        "m.dispose()\n",
        "m2.dispose()\n",
        "gp.disposeDefaultEnv()"
      ]
    }
  ],
  "metadata": {
    "colab": {
      "provenance": []
    },
    "kernelspec": {
      "display_name": "Python 3 (ipykernel)",
      "language": "python",
      "name": "python3"
    },
    "language_info": {
      "codemirror_mode": {
        "name": "ipython",
        "version": 3
      },
      "file_extension": ".py",
      "mimetype": "text/x-python",
      "name": "python",
      "nbconvert_exporter": "python",
      "pygments_lexer": "ipython3",
      "version": "3.12.3"
    },
    "toc-autonumbering": false,
    "toc-showcode": false,
    "toc-showmarkdowntxt": false,
    "vscode": {
      "interpreter": {
        "hash": "70d79b410022258e996d14a47d5687c6c473c4d5d0c04ea47c92533eee9f501f"
      }
    }
  },
  "nbformat": 4,
  "nbformat_minor": 5
}
